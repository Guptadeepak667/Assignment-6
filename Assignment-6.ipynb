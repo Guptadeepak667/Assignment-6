{
 "cells": [
  {
   "cell_type": "markdown",
   "id": "52c6e140",
   "metadata": {},
   "source": [
    "## Assigmnet-6"
   ]
  },
  {
   "cell_type": "markdown",
   "id": "25f81d56",
   "metadata": {},
   "source": [
    "#### Que1: What are keywords in python? Using the keyword library, print all the python keywords."
   ]
  },
  {
   "cell_type": "markdown",
   "id": "107bbe42",
   "metadata": {},
   "source": [
    "Ans:  Python, keywords are reserved words that have special meanings and purposes in the language. These keywords are used to define the syntax and structure of Python programs. You cannot use them as identifiers (variable names, function names, etc.) because they have predefined meanings."
   ]
  },
  {
   "cell_type": "code",
   "execution_count": 1,
   "id": "7b85353a",
   "metadata": {},
   "outputs": [
    {
     "name": "stdout",
     "output_type": "stream",
     "text": [
      "['False', 'None', 'True', 'and', 'as', 'assert', 'async', 'await', 'break', 'class', 'continue', 'def', 'del', 'elif', 'else', 'except', 'finally', 'for', 'from', 'global', 'if', 'import', 'in', 'is', 'lambda', 'nonlocal', 'not', 'or', 'pass', 'raise', 'return', 'try', 'while', 'with', 'yield']\n"
     ]
    }
   ],
   "source": [
    "import keyword\n",
    "\n",
    "keywords = keyword.kwlist\n",
    "\n",
    "print(keywords)\n"
   ]
  },
  {
   "cell_type": "markdown",
   "id": "d77517c0",
   "metadata": {},
   "source": [
    "#### Que2 : What are the rules to create variables in python?"
   ]
  },
  {
   "cell_type": "markdown",
   "id": "27a14127",
   "metadata": {},
   "source": [
    "Ans : In Python, you can create variables to store and manipulate data. Here are the rules and conventions for creating variables:\n",
    "\n",
    "#### Variable Names:\n",
    "\n",
    "Variable names are case-sensitive, which means \"myVariable\" and \"myvariable\" are considered different variables.\n",
    "Variable names must start with a letter (a-z, A-Z) or an underscore (_) character. They cannot start with a digit (0-9).\n",
    "\n",
    "#### Allowed Characters:\n",
    "\n",
    "After the initial letter or underscore, variable names can contain letters, digits, and underscores. Special characters (such as @, #, $, %) are not allowed in variable names.\n",
    "\n",
    "#### Reserved Words (Keywords):\n",
    "\n",
    "You cannot use Python's reserved words (also known as keywords) as variable names. These words have special meanings in the language and are used for various purposes. Some examples of Python keywords include \"if,\" \"else,\" \"while,\" \"for,\" \"def,\" \"class,\" \"import,\" and others.\n",
    "\n",
    "#### Valid Examples:\n",
    "\n",
    "Valid variable names: my_variable, myVar, count, data123, _internal_var, MyVariableName\n",
    "Invalid variable names: 1st_variable (starts with a digit), @special_var (contains a special character), for (a reserved keyword).\n",
    "\n",
    "#### Pythonic Naming Conventions:\n",
    "\n",
    "It's recommended to follow naming conventions to make your code more readable and consistent. Here are common conventions:\n",
    "Use lowercase letters for variable names (e.g., my_variable).\n",
    "Use underscores to separate words in a variable name (e.g., word_count).\n",
    "For constants, use all uppercase letters with underscores (e.g., PI, MAX_VALUE).\n",
    "Class names typically use CamelCase (or CapWords) where each word's first letter is capitalized (e.g., MyClass).\n",
    "\n",
    "#### Descriptive Names:\n",
    "\n",
    "Choose meaningful and descriptive variable names to make your code more readable and self-explanatory. For example, instead of using single-letter variables like x and y, use names like width and height to make the code more understandable.\n",
    "\n",
    "#### Assignment:\n",
    "\n",
    "To assign a value to a variable, use the = operator. For example: my_variable = 42."
   ]
  },
  {
   "cell_type": "code",
   "execution_count": 3,
   "id": "5f3a7a2e",
   "metadata": {},
   "outputs": [],
   "source": [
    "# Example :\n",
    "my_variable = 42\n",
    "name = \"John\"\n",
    "pi_value = 3.14159\n",
    "is_valid = True\n"
   ]
  },
  {
   "cell_type": "markdown",
   "id": "d481bb36",
   "metadata": {},
   "source": [
    "#### Que3 : What are the standards and conventions followed for the nomenclature of variables in python to improve code readability and maintainability? "
   ]
  },
  {
   "cell_type": "markdown",
   "id": "3454e020",
   "metadata": {},
   "source": [
    "Ans : \n",
    "\n",
    "#### 1. Use Descriptive Names: \n",
    "\n",
    "Choose variable names that describe the purpose or content of the variable. This makes your code self-documenting and helps others understand the role of each variable.\n",
    "\n",
    "Example:"
   ]
  },
  {
   "cell_type": "code",
   "execution_count": 7,
   "id": "9e65b26a",
   "metadata": {},
   "outputs": [],
   "source": [
    "# Good\n",
    "student_name = \"John Doe\"\n",
    "\n",
    "# Bad (not descriptive)\n",
    "x = \"John\"\n"
   ]
  },
  {
   "cell_type": "markdown",
   "id": "0e3c1cad",
   "metadata": {},
   "source": [
    "#### 2. Use Lowercase Letters: \n",
    "Variable names should generally be in lowercase. If a variable name consists of multiple words, separate them with underscores for improved readability (snake_case).\n",
    "\n",
    "Example:"
   ]
  },
  {
   "cell_type": "code",
   "execution_count": 8,
   "id": "f036f8fc",
   "metadata": {},
   "outputs": [],
   "source": [
    "# Good\n",
    "max_value = 100\n",
    "\n",
    "# Bad (no underscores, less readable)\n",
    "maxValue = 100\n"
   ]
  },
  {
   "cell_type": "markdown",
   "id": "79b78fda",
   "metadata": {},
   "source": [
    "#### 3. Constants: \n",
    "If a variable is intended to be a constant (a value that doesn't change throughout the program), use uppercase letters with underscores to separate words.\n",
    "\n",
    "Example:"
   ]
  },
  {
   "cell_type": "code",
   "execution_count": 9,
   "id": "9be62bdd",
   "metadata": {},
   "outputs": [],
   "source": [
    "PI = 3.14159\n",
    "MAX_LENGTH = 100\n"
   ]
  },
  {
   "cell_type": "markdown",
   "id": "9b47e8b6",
   "metadata": {},
   "source": [
    "#### 4. CamelCase for Classes: \n",
    "Class names should use CamelCase (or CapWords) where the first letter of each word is capitalized. This is known as PascalCase.\n",
    "\n",
    "Example:"
   ]
  },
  {
   "cell_type": "markdown",
   "id": "08b15683",
   "metadata": {},
   "source": [
    "#### 5. Avoid Single-Letter Variables: \n",
    "While single-letter variable names like i, j, and x are sometimes used in certain contexts, it's generally better to use descriptive names that convey the variable's purpose.\n",
    "\n",
    "#### 6. Use Plural for Collections:\n",
    "When a variable represents a collection of items, such as a list, use a plural form for the variable name to indicate that it's a collection.\n",
    "\n",
    "Example:"
   ]
  },
  {
   "cell_type": "code",
   "execution_count": 10,
   "id": "172cf20b",
   "metadata": {},
   "outputs": [],
   "source": [
    "# Good\n",
    "students = [\"John\", \"Alice\", \"Bob\"]\n",
    "\n",
    "# Bad (not clear it's a collection)\n",
    "student = [\"John\", \"Alice\", \"Bob\"]\n"
   ]
  },
  {
   "cell_type": "markdown",
   "id": "8c51a5b5",
   "metadata": {},
   "source": [
    "#### 7. Avoid Shadowing Built-in Names:\n",
    "Be cautious not to name your variables the same as built-in functions, classes, or modules, as this can lead to confusion and unexpected behavior.\n",
    "\n",
    "#### 8. Use Verb-Noun Pairing for Functions: \n",
    "When naming functions, use verb-noun pairing to indicate their action and purpose.\n",
    "\n",
    "Example: "
   ]
  },
  {
   "cell_type": "code",
   "execution_count": 12,
   "id": "a1b0a7f6",
   "metadata": {},
   "outputs": [],
   "source": [
    "# Good\n",
    "def calculate_total_price():\n",
    "    pass\n",
    "\n",
    "# Bad (less clear)\n",
    "def total_price():\n",
    "    pass\n"
   ]
  },
  {
   "cell_type": "markdown",
   "id": "20db986f",
   "metadata": {},
   "source": [
    "#### 9. Avoid Abbreviations and Acronyms: \n",
    "While some abbreviations may be widely understood (e.g., URL), it's generally better to use full words to make your code more accessible to a broader audience.\n",
    "\n",
    "#### 10. Consistency: \n",
    "Maintain consistency in your naming conventions throughout your codebase. Consistency makes it easier for others (and your future self) to navigate and understand the code."
   ]
  },
  {
   "cell_type": "markdown",
   "id": "dfd70d01",
   "metadata": {},
   "source": [
    "#### Que4: What will happen if a keyword is used as a variable name?"
   ]
  },
  {
   "cell_type": "markdown",
   "id": "54292acd",
   "metadata": {},
   "source": [
    "Ans : If you use a Python keyword as a variable name, it will result in a syntax error, and your code will not run. Python's keywords are reserved for specific purposes within the language, and you are not allowed to use them as identifiers (variable names, function names, class names, etc.).\n",
    "\n",
    "For example, if you try to use a keyword like \"if\" as a variable name, you will encounter a syntax error:"
   ]
  },
  {
   "cell_type": "code",
   "execution_count": 14,
   "id": "251d6c7a",
   "metadata": {},
   "outputs": [
    {
     "ename": "SyntaxError",
     "evalue": "invalid syntax (2609098313.py, line 1)",
     "output_type": "error",
     "traceback": [
      "\u001b[1;36m  Cell \u001b[1;32mIn[14], line 1\u001b[1;36m\u001b[0m\n\u001b[1;33m    if = 10  # This will result in a syntax error\u001b[0m\n\u001b[1;37m       ^\u001b[0m\n\u001b[1;31mSyntaxError\u001b[0m\u001b[1;31m:\u001b[0m invalid syntax\n"
     ]
    }
   ],
   "source": [
    "if = 10  # This will result in a syntax error\n"
   ]
  },
  {
   "cell_type": "markdown",
   "id": "f2554bca",
   "metadata": {},
   "source": [
    "#### Que5: For what purpose def keyword is used?"
   ]
  },
  {
   "cell_type": "markdown",
   "id": "1ed99449",
   "metadata": {},
   "source": [
    "Ans : The def keyword in Python is used to define a function. Functions are reusable blocks of code that perform a specific task or a set of tasks. They allow you to encapsulate a sequence of statements into a single unit, which can be called and executed multiple times with different inputs.\n",
    "    \n",
    "1. def: This keyword is used to indicate the start of a function definition.\n",
    "\n",
    "2. function_name: This is the name of the function. It should follow the variable naming conventions, typically using lowercase letters and underscores (snake_case).\n",
    "\n",
    "3. parameters: These are placeholders for the values (arguments) that the function can accept. They are enclosed in parentheses. You can have zero or more parameters.\n",
    "\n",
    "4. Function code: This is the block of code that gets executed when the function is called. It contains the instructions and statements that define what the function does.\n",
    "\n",
    "5. return: This is an optional statement that is used to specify the value that the function should return when it completes its execution. If a function doesn't have a return statement or if it omits the return statement, it returns None by default.\n",
    "\n",
    "Here's an example of a simple function that adds two numbers and returns the result:"
   ]
  },
  {
   "cell_type": "code",
   "execution_count": 15,
   "id": "84e2d594",
   "metadata": {},
   "outputs": [],
   "source": [
    "def add_numbers(a, b):\n",
    "    result = a + b\n",
    "    return result\n"
   ]
  },
  {
   "cell_type": "markdown",
   "id": "166d158c",
   "metadata": {},
   "source": [
    "#### Que6: What is the operation of this special character ‘\\’?"
   ]
  },
  {
   "cell_type": "markdown",
   "id": "c434fa11",
   "metadata": {},
   "source": [
    "Ans: The special character '\\' (backslash) serves several purposes in Python, and its operation depends on how it's used. Here are some common uses of the backslash in Python:\n",
    "1. Escape Sequences: Backslashes are used to introduce escape sequences in strings. An escape sequence is a combination of characters that represents a special character, such as a newline (\\n) or a tab (\\t). When Python encounters an escape s\n",
    "2. Escape Special Characters: If you need to include a literal backslash in a string, you can escape it by using a double backslash ('\\\\').\n",
    "3. Escape Quotes: Backslashes can be used to escape quotes within strings. For example, to include a double quote within a double-quoted string, you can use \\\n",
    "4. Unicode Escape Sequences: Backslashes can also be used to represent Unicode characters using escape sequences. For example, \\uXXXX represents a Unicode character with the hexadecimal code XXXX.\n",
    "5. Line Continuation: A backslash at the end of a line can be used to indicate that the current logical line of code continues on the next physical line. This is useful for breaking long lines of code for readability.        \n",
    "\n",
    "Example."
   ]
  },
  {
   "cell_type": "code",
   "execution_count": 16,
   "id": "02b1df09",
   "metadata": {},
   "outputs": [
    {
     "name": "stdout",
     "output_type": "stream",
     "text": [
      "Hello, world!\n",
      "This is a new line.\n",
      "C:\\Users\\Username\\Documents\n",
      "She said, \"Hello!\"\n",
      "❤\n"
     ]
    }
   ],
   "source": [
    "text = \"Hello, world!\\nThis is a new line.\"\n",
    "print(text)\n",
    "\n",
    "path = \"C:\\\\Users\\\\Username\\\\Documents\"\n",
    "print(path)\n",
    "\n",
    "message = \"She said, \\\"Hello!\\\"\"\n",
    "print(message)\n",
    "\n",
    "heart = \"\\u2764\"\n",
    "print(heart)\n",
    "\n",
    "long_line = \"This is a very long line of code that needs to be \" \\\n",
    "            \"split into multiple physical lines for readability.\"\n"
   ]
  },
  {
   "cell_type": "markdown",
   "id": "0fa0a5c3",
   "metadata": {},
   "source": [
    "#### Que7 : Give an example of the following conditions:\n",
    "(i) Homogeneous list\n",
    "(ii) Heterogeneous set\n",
    "(iii) Homogeneous tuple"
   ]
  },
  {
   "cell_type": "markdown",
   "id": "095655e7",
   "metadata": {},
   "source": [
    "#### (i) Homogeneous List:\n",
    "A homogeneous list is one that contains elements of the same data type. \n",
    "\n",
    "#### (ii) Heterogeneous Set:\n",
    "A set can be heterogeneous because it allows you to store elements of different data types. \n",
    "\n",
    "#### (iii) Homogeneous Tuple:\n",
    "Tuples can be homogeneous when they store elements of the same data type. \n",
    "\n",
    "Here's an example: "
   ]
  },
  {
   "cell_type": "code",
   "execution_count": 17,
   "id": "b1b9adcd",
   "metadata": {},
   "outputs": [
    {
     "name": "stdout",
     "output_type": "stream",
     "text": [
      "[1, 2, 3, 4, 5]\n",
      "{3.14, 'apple', (1, 2), 1}\n",
      "('apple', 'banana', 'cherry')\n"
     ]
    }
   ],
   "source": [
    "# (i) Homogeneous list\n",
    "homogeneous_int_list = [1, 2, 3, 4, 5]\n",
    "print(homogeneous_int_list)\n",
    "\n",
    "# (ii) Heterogeneous set\n",
    "\n",
    "heterogeneous_set = {1, \"apple\", 3.14, (1, 2)}\n",
    "print(heterogeneous_set)\n",
    "\n",
    "# (iii) Homogeneous tuple\n",
    "homogeneous_str_tuple = (\"apple\", \"banana\", \"cherry\")\n",
    "print(homogeneous_str_tuple)"
   ]
  },
  {
   "cell_type": "markdown",
   "id": "f3282f8a",
   "metadata": {},
   "source": [
    "#### Que8 : Explain the mutable and immutable data types with proper explanation & examples."
   ]
  },
  {
   "cell_type": "markdown",
   "id": "86e84628",
   "metadata": {},
   "source": [
    "Ans : \n",
    "#### Immutable Data Types:\n",
    "Immutable data types are those whose values cannot be modified after they are created. Any operation that appears to modify an immutable object actually creates a new object with the modified value. Immutable objects are safer for use in scenarios where data should not change, and they are used as keys in dictionaries and elements in sets.\n",
    "Here are some common immutable data types in Python:\n",
    "\n",
    "1. int: Integer values are immutable. When you perform arithmetic operations on an integer, you create a new integer object with the result.\n",
    "2. float: Floating-point numbers are also immutable.\n",
    "3. str: Strings are immutable. When you manipulate a string, you create a new string object with the modified content.\n",
    "4. tuple: Tuples are collections of items, and they are immutable. You can't change the elements of a tuple once it's created.\n",
    "\n",
    "Example : "
   ]
  },
  {
   "cell_type": "code",
   "execution_count": 18,
   "id": "46e2592b",
   "metadata": {},
   "outputs": [
    {
     "name": "stdout",
     "output_type": "stream",
     "text": [
      "8\n",
      "3.1515899999999997\n",
      "Hello World\n",
      "(1, 2, 3)\n"
     ]
    }
   ],
   "source": [
    "x = 5\n",
    "y = x + 3  # Creates a new integer object with the value 8\n",
    "print(y)\n",
    "\n",
    "pi = 3.14159\n",
    "pi = pi + 0.01  # Creates a new float object with the value 3.15159\n",
    "print(pi)\n",
    "\n",
    "s = \"Hello\"\n",
    "s = s + \" World\"  # Creates a new string object with the value \"Hello World\"\n",
    "print(s)\n",
    "\n",
    "my_tuple = (1, 2, 3) # Attempting to modify the tuple will result in an error.\n",
    "print(my_tuple)"
   ]
  },
  {
   "cell_type": "markdown",
   "id": "8b0b57bb",
   "metadata": {},
   "source": [
    "#### Mutable Data Types:\n",
    "Mutable data types are those whose values can be modified after they are created. When you make changes to a mutable object, the changes are reflected in the original object, and no new object is created.\n",
    "\n",
    "Here are some common mutable data types in Python:\n",
    "1. list: Lists are mutable. You can change, add, or remove elements in a list without creating a new list object.\n",
    "2. dict: Dictionaries are mutable and consist of key-value pairs. You can add, modify, or remove key-value pairs without creating a new dictionary.\n",
    "3. set: Sets are mutable, and you can add or remove elements from a set.\n",
    "4. bytearray: Bytearrays are mutable sequences of bytes, allowing you to modify individual elements.\n",
    "\n",
    "Example: "
   ]
  },
  {
   "cell_type": "code",
   "execution_count": 19,
   "id": "c4477c8c",
   "metadata": {},
   "outputs": [
    {
     "name": "stdout",
     "output_type": "stream",
     "text": [
      "[1, 10, 3, 4]\n",
      "{'name': 'Alice', 'age': 31}\n",
      "{1, 2, 3, 4}\n",
      "bytearray(b'Hullo')\n"
     ]
    }
   ],
   "source": [
    "my_list = [1, 2, 3]\n",
    "my_list.append(4)  # Modifies the original list\n",
    "my_list[1] = 10  # Modifies the original list\n",
    "print(my_list)\n",
    "\n",
    "my_dict = {\"name\": \"Alice\", \"age\": 30}\n",
    "my_dict[\"age\"] = 31  # Modifies the original dictionary\n",
    "print(my_dict)\n",
    "\n",
    "my_set = {1, 2, 3}\n",
    "my_set.add(4)  # Modifies the original set\n",
    "print(my_set)\n",
    "\n",
    "b = bytearray(b\"Hello\")\n",
    "b[1] = ord(\"u\")  # Modifies the bytearray to b\"Hu\"\n",
    "print(b)"
   ]
  },
  {
   "cell_type": "markdown",
   "id": "2c6b5f7a",
   "metadata": {},
   "source": [
    "#### Que9: Write a code to create the given structure using only for loop.\n",
    "\n",
    "##### *\n",
    "##### ***\n",
    "##### *****\n",
    "##### *******\n",
    "##### *********"
   ]
  },
  {
   "cell_type": "code",
   "execution_count": 21,
   "id": "45c38a00",
   "metadata": {},
   "outputs": [
    {
     "name": "stdout",
     "output_type": "stream",
     "text": [
      "*\n",
      "***\n",
      "*****\n",
      "*******\n",
      "*********"
     ]
    }
   ],
   "source": [
    "# Define the number of rows you want in the pattern\n",
    "num_rows = 9\n",
    "\n",
    "# Loop through each row\n",
    "for i in range(num_rows):\n",
    "    # Print \"*\" for the odd rows (1st, 3rd, 5th, ...)\n",
    "    if i % 2 == 0:\n",
    "        for j in range(i + 1):\n",
    "            print(\"*\", end=\"\")\n",
    "    # Print a newline character for the even rows (2nd, 4th, ...)\n",
    "    else:\n",
    "        print()"
   ]
  },
  {
   "cell_type": "markdown",
   "id": "7f7bd8c0",
   "metadata": {},
   "source": [
    "#### Que10: Write a code to create the given structure using while loop.\n",
    "#### |||||||||\n",
    "#### |||||||\n",
    "#### |||||\n",
    "#### |||\n",
    "#### |"
   ]
  },
  {
   "cell_type": "code",
   "execution_count": 23,
   "id": "1a86d0c6",
   "metadata": {},
   "outputs": [
    {
     "name": "stdout",
     "output_type": "stream",
     "text": [
      "|||||||||\n",
      "|||||||\n",
      "|||||\n",
      "|||\n",
      "|\n"
     ]
    }
   ],
   "source": [
    "# Define the number of rows you want in the pattern\n",
    "num_rows = 5\n",
    "\n",
    "# Initialize a variable for the number of vertical bars\n",
    "num_bars = 9\n",
    "\n",
    "# Loop through each row\n",
    "while num_rows > 0:\n",
    "    # Print the vertical bars for the current row\n",
    "    for i in range(num_bars):\n",
    "        print(\"|\", end=\"\")\n",
    "    \n",
    "    # Move to the next row\n",
    "    print()\n",
    "    \n",
    "    # Reduce the number of vertical bars and rows for the next iteration\n",
    "    num_bars -= 2\n",
    "    num_rows -= 1\n"
   ]
  },
  {
   "cell_type": "code",
   "execution_count": null,
   "id": "7b58af9f",
   "metadata": {},
   "outputs": [],
   "source": []
  }
 ],
 "metadata": {
  "kernelspec": {
   "display_name": "Python 3 (ipykernel)",
   "language": "python",
   "name": "python3"
  },
  "language_info": {
   "codemirror_mode": {
    "name": "ipython",
    "version": 3
   },
   "file_extension": ".py",
   "mimetype": "text/x-python",
   "name": "python",
   "nbconvert_exporter": "python",
   "pygments_lexer": "ipython3",
   "version": "3.11.4"
  }
 },
 "nbformat": 4,
 "nbformat_minor": 5
}
